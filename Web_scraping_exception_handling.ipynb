{
 "cells": [
  {
   "cell_type": "markdown",
   "metadata": {},
   "source": [
    "\n",
    "# WEB SCRAPING (Selenium)"
   ]
  },
  {
   "cell_type": "markdown",
   "metadata": {},
   "source": [
    "PROBLEM STATEMENT:"
   ]
  },
  {
   "cell_type": "markdown",
   "metadata": {},
   "source": [
    "1. Write a python program which searches all the product under a particular product vertical\n",
    "from www.amazon.in. The product verticals to be searched will be taken as input from user.\n",
    "For e.g. If user input is ‘guitar’. Then search for guitars"
   ]
  },
  {
   "cell_type": "code",
   "execution_count": 73,
   "metadata": {},
   "outputs": [],
   "source": [
    "#Lets now import all the required libraries\n",
    "import selenium\n",
    "import pandas as pd\n",
    "import time \n",
    "\n",
    "#Importing selenium webdriver\n",
    "from selenium import webdriver"
   ]
  },
  {
   "cell_type": "code",
   "execution_count": 20,
   "metadata": {},
   "outputs": [],
   "source": [
    "#Activating the chrome browser\n",
    "driver = webdriver.Chrome('chromedriver.exe')\n"
   ]
  },
  {
   "cell_type": "code",
   "execution_count": 21,
   "metadata": {},
   "outputs": [],
   "source": [
    "#opening the home page of Amazon\n",
    "driver.get('https://www.amazon.in')"
   ]
  },
  {
   "cell_type": "code",
   "execution_count": 22,
   "metadata": {},
   "outputs": [
    {
     "name": "stdout",
     "output_type": "stream",
     "text": [
      "Enter the product you want to search :Guitar\n"
     ]
    }
   ],
   "source": [
    "#ask the user to input the keywords to search\n",
    "user_inp = input(\"Enter the product you want to search :\")"
   ]
  },
  {
   "cell_type": "code",
   "execution_count": 23,
   "metadata": {},
   "outputs": [],
   "source": [
    "search_bar = driver.find_element_by_id(\"twotabsearchtextbox\")\n",
    "search_bar.clear()\n",
    "search_bar.send_keys(user_inp)\n",
    "search_button = driver.find_element_by_xpath(\"//div[@class='nav-search-submit nav-sprite']/span/input\")\n",
    "search_button.click()"
   ]
  },
  {
   "cell_type": "code",
   "execution_count": null,
   "metadata": {},
   "outputs": [],
   "source": []
  },
  {
   "cell_type": "code",
   "execution_count": null,
   "metadata": {},
   "outputs": [],
   "source": []
  },
  {
   "cell_type": "markdown",
   "metadata": {},
   "source": [
    "2. In the above question, now scrape the following details of each product listed in first 3 pages \n",
    "of your search results and save it in a dataframe and csv. In case if any product vertical has \n",
    "less than 3 pages in search results then scrape all the products available under that product \n",
    "vertical. Details to be scraped are: \"Brand Name\", \"Name of the Product\", \"Rating\", \"No. of \n",
    "Ratings\", \"Price\", \"Return/Exchange\", \"Expected Delivery\", \"Availability\", \"Other Details\" \n",
    "and “Product URL”. In case, if any of the details are missing for any of the product then \n",
    "replace it by “-“"
   ]
  },
  {
   "cell_type": "code",
   "execution_count": 24,
   "metadata": {},
   "outputs": [],
   "source": [
    "urls=[]\n",
    "for i in range(0,3):\n",
    "    for j in driver.find_elements_by_xpath(\"//h2[@class='a-size-mini a-spacing-none a-color-base s-line-clamp-4']/a\"):\n",
    "        urls.append(j.get_attribute('href'))\n",
    "    driver.find_element_by_xpath('//li[@class=\"a-last\"]/a').click()\n",
    "    time.sleep(4)"
   ]
  },
  {
   "cell_type": "code",
   "execution_count": 35,
   "metadata": {},
   "outputs": [
    {
     "name": "stdout",
     "output_type": "stream",
     "text": [
      "126\n"
     ]
    }
   ],
   "source": [
    "print(len(rating))"
   ]
  },
  {
   "cell_type": "code",
   "execution_count": 25,
   "metadata": {},
   "outputs": [],
   "source": [
    "product_name = []\n",
    "\n",
    "for i in range(0,3):\n",
    "    for j in driver.find_elements_by_xpath(\"//span[@class='a-size-base-plus a-color-base a-text-normal']\"):\n",
    "        product_name.append(j.text)\n",
    "    driver.find_element_by_xpath('//li[@class=\"a-last\"]/a').click()\n",
    "    time.sleep(4)"
   ]
  },
  {
   "cell_type": "code",
   "execution_count": 28,
   "metadata": {},
   "outputs": [],
   "source": [
    "price = []\n",
    "\n",
    "for i in range(0,3):\n",
    "    for j in driver.find_elements_by_xpath(\"//span[@class='a-price-whole']\"):\n",
    "        price.append(j.text)\n",
    "    driver.find_element_by_xpath('//li[@class=\"a-last\"]/a').click()\n",
    "    time.sleep(4)"
   ]
  },
  {
   "cell_type": "code",
   "execution_count": 30,
   "metadata": {},
   "outputs": [],
   "source": [
    "discount = []\n",
    "\n",
    "for i in range(0,3):\n",
    "    for j in driver.find_elements_by_xpath(\"//span[@class='a-letter-space']\"):\n",
    "        discount.append(j.text)\n",
    "    driver.find_element_by_xpath('//li[@class=\"a-last\"]/a').click()\n",
    "    time.sleep(4)"
   ]
  },
  {
   "cell_type": "code",
   "execution_count": 34,
   "metadata": {},
   "outputs": [],
   "source": [
    "rating = []\n",
    "\n",
    "for i in range(0,3):\n",
    "    for j in driver.find_elements_by_xpath(\"//span[@class='a-icon-alt']\"):\n",
    "        rating.append(j.text)\n",
    "    driver.find_element_by_xpath('//li[@class=\"a-last\"]/a').click()\n",
    "    time.sleep(4)"
   ]
  },
  {
   "cell_type": "code",
   "execution_count": null,
   "metadata": {},
   "outputs": [],
   "source": [
    "#creating a dataframe\n",
    "df=pd.DataFrame({'Brand': product_name,\n",
    "                 'URL' : urls,\n",
    "                'Price':price,\n",
    "                'Rating': rating,\n",
    "                'Discount':discount})"
   ]
  },
  {
   "cell_type": "code",
   "execution_count": null,
   "metadata": {},
   "outputs": [],
   "source": []
  },
  {
   "cell_type": "code",
   "execution_count": null,
   "metadata": {},
   "outputs": [],
   "source": []
  },
  {
   "cell_type": "markdown",
   "metadata": {},
   "source": [
    "PROBLEM STATEMENT:"
   ]
  },
  {
   "cell_type": "markdown",
   "metadata": {},
   "source": [
    "Write a python program to access the search bar and search button on images.google.com and \n",
    "scrape 100 images each for keywords ‘fruits’, ‘cars’ and ‘Machine Learning’.\n"
   ]
  },
  {
   "cell_type": "code",
   "execution_count": 23,
   "metadata": {},
   "outputs": [],
   "source": [
    "#import all the required libraries\n",
    "import pandas as pd\n",
    "import selenium\n",
    "from selenium import webdriver\n",
    "import time\n",
    "import requests\n",
    "from selenium.common.exceptions import StaleElementReferenceException, NoSuchElementException"
   ]
  },
  {
   "cell_type": "code",
   "execution_count": 31,
   "metadata": {},
   "outputs": [],
   "source": [
    "#Activating the chrome browser\n",
    "driver = webdriver.Chrome('chromedriver.exe')"
   ]
  },
  {
   "cell_type": "code",
   "execution_count": 32,
   "metadata": {},
   "outputs": [],
   "source": [
    "#opening the home page of google\n",
    "driver.get('https://www.google.com/imghp?hl=en')"
   ]
  },
  {
   "cell_type": "code",
   "execution_count": null,
   "metadata": {},
   "outputs": [],
   "source": [
    "#ask the user to input the keywords to search\n",
    "user_inp = input(\"Enter the product you want to search :\")"
   ]
  },
  {
   "cell_type": "code",
   "execution_count": 5,
   "metadata": {},
   "outputs": [],
   "source": [
    "search_bar = driver.find_element_by_xpath(\"//input[@class='gLFyf gsfi']\")\n",
    "search_bar.clear()\n",
    "search_bar.send_keys(user_inp)\n",
    "search_button = driver.find_element_by_xpath(\"//div[@class='FAuhyb']\")\n",
    "search_button.click()"
   ]
  },
  {
   "cell_type": "code",
   "execution_count": 6,
   "metadata": {},
   "outputs": [],
   "source": [
    "for _ in range(500):\n",
    "    driver.execute_script(\"window.scrollBy(0,10000)\")\n",
    "\n",
    "images = driver.find_elements_by_xpath('//img[@class=\"rg_i Q4LuWd\"]')\n",
    "\n",
    "\n",
    "\n",
    "img_urls = []\n",
    "\n",
    "img_data = []\n",
    "\n",
    "for image in images:\n",
    "\n",
    "    source= image.get_attribute('src')\n",
    "\n",
    "    if source is not None:\n",
    "\n",
    "        if(source[0:4] == 'http'):\n",
    "\n",
    "            img_urls.append(source)"
   ]
  },
  {
   "cell_type": "code",
   "execution_count": 17,
   "metadata": {},
   "outputs": [
    {
     "name": "stdout",
     "output_type": "stream",
     "text": [
      "Downloading 4 of 100 images\n"
     ]
    },
    {
     "data": {
      "text/plain": [
       "16954"
      ]
     },
     "execution_count": 17,
     "metadata": {},
     "output_type": "execute_result"
    }
   ],
   "source": [
    "for i in range(len(img_urls)):\n",
    "\n",
    "    if i >= 100:\n",
    "        \n",
    "        break\n",
    "\n",
    "print(\"Downloading {0} of {1} images\" .format(i, 100))\n",
    "\n",
    "response= requests.get(img_urls[i])\n",
    "\n",
    "file = open(r\"F:\\Fruits\"+str(i)+\".jpg\", \"wb\")\n",
    "\n",
    "file.write(response.content)"
   ]
  },
  {
   "cell_type": "code",
   "execution_count": 19,
   "metadata": {},
   "outputs": [],
   "source": [
    "driver.close()"
   ]
  },
  {
   "cell_type": "code",
   "execution_count": 22,
   "metadata": {},
   "outputs": [
    {
     "name": "stdout",
     "output_type": "stream",
     "text": [
      "Enter the product you want to search :Cars\n"
     ]
    }
   ],
   "source": [
    "#ask the user to input the keywords to search\n",
    "user_inp = input(\"Enter the product you want to search :\")"
   ]
  },
  {
   "cell_type": "code",
   "execution_count": 23,
   "metadata": {},
   "outputs": [],
   "source": [
    "search_bar = driver.find_element_by_xpath(\"//input[@class='gLFyf gsfi']\")\n",
    "search_bar.clear()\n",
    "search_bar.send_keys(user_inp)\n",
    "search_button = driver.find_element_by_xpath(\"//div[@class='FAuhyb']\")\n",
    "search_button.click()"
   ]
  },
  {
   "cell_type": "code",
   "execution_count": 24,
   "metadata": {},
   "outputs": [],
   "source": [
    "for _ in range(500):\n",
    "    driver.execute_script(\"window.scrollBy(0,10000)\")\n",
    "\n",
    "images = driver.find_elements_by_xpath('//img[@class=\"rg_i Q4LuWd\"]')\n",
    "\n",
    "\n",
    "\n",
    "img_urls = []\n",
    "\n",
    "img_data = []\n",
    "\n",
    "for image in images:\n",
    "\n",
    "    source= image.get_attribute('src')\n",
    "\n",
    "    if source is not None:\n",
    "\n",
    "        if(source[0:4] == 'http'):\n",
    "\n",
    "            img_urls.append(source)"
   ]
  },
  {
   "cell_type": "code",
   "execution_count": 25,
   "metadata": {},
   "outputs": [
    {
     "name": "stdout",
     "output_type": "stream",
     "text": [
      "Downloading 100 of 100 images\n"
     ]
    },
    {
     "data": {
      "text/plain": [
       "4782"
      ]
     },
     "execution_count": 25,
     "metadata": {},
     "output_type": "execute_result"
    }
   ],
   "source": [
    "for i in range(len(img_urls)):\n",
    "\n",
    "    if i >= 100:\n",
    "        \n",
    "        break\n",
    "\n",
    "print(\"Downloading {0} of {1} images\" .format(i, 100))\n",
    "\n",
    "response= requests.get(img_urls[i])\n",
    "\n",
    "file = open(r\"F:\\Cars\"+str(i)+\".jpg\", \"wb\")\n",
    "\n",
    "file.write(response.content)"
   ]
  },
  {
   "cell_type": "code",
   "execution_count": 26,
   "metadata": {},
   "outputs": [],
   "source": [
    "driver.close()"
   ]
  },
  {
   "cell_type": "code",
   "execution_count": 33,
   "metadata": {},
   "outputs": [
    {
     "name": "stdout",
     "output_type": "stream",
     "text": [
      "Enter the product you want to search :Machine Learning\n"
     ]
    }
   ],
   "source": [
    "#ask the user to input the keywords to search\n",
    "user_inp = input(\"Enter the product you want to search :\")"
   ]
  },
  {
   "cell_type": "code",
   "execution_count": 34,
   "metadata": {},
   "outputs": [],
   "source": [
    "search_bar = driver.find_element_by_xpath(\"//input[@class='gLFyf gsfi']\")\n",
    "search_bar.clear()\n",
    "search_bar.send_keys(user_inp)\n",
    "search_button = driver.find_element_by_xpath(\"//div[@class='FAuhyb']\")\n",
    "search_button.click()"
   ]
  },
  {
   "cell_type": "code",
   "execution_count": 35,
   "metadata": {},
   "outputs": [],
   "source": [
    "for _ in range(500):\n",
    "    driver.execute_script(\"window.scrollBy(0,10000)\")\n",
    "\n",
    "images = driver.find_elements_by_xpath('//img[@class=\"rg_i Q4LuWd\"]')\n",
    "\n",
    "\n",
    "\n",
    "img_urls = []\n",
    "\n",
    "img_data = []\n",
    "\n",
    "for image in images:\n",
    "\n",
    "    source= image.get_attribute('src')\n",
    "\n",
    "    if source is not None:\n",
    "\n",
    "        if(source[0:4] == 'http'):\n",
    "\n",
    "            img_urls.append(source)"
   ]
  },
  {
   "cell_type": "code",
   "execution_count": 36,
   "metadata": {},
   "outputs": [
    {
     "name": "stdout",
     "output_type": "stream",
     "text": [
      "Downloading 100 of 100 images\n"
     ]
    },
    {
     "data": {
      "text/plain": [
       "6802"
      ]
     },
     "execution_count": 36,
     "metadata": {},
     "output_type": "execute_result"
    }
   ],
   "source": [
    "for i in range(len(img_urls)):\n",
    "\n",
    "    if i >= 100:\n",
    "        \n",
    "        break\n",
    "\n",
    "print(\"Downloading {0} of {1} images\" .format(i, 100))\n",
    "\n",
    "response= requests.get(img_urls[i])\n",
    "\n",
    "file = open(r\"F:\\Machine Learning\"+str(i)+\".jpg\", \"wb\")\n",
    "\n",
    "file.write(response.content)"
   ]
  },
  {
   "cell_type": "code",
   "execution_count": 38,
   "metadata": {},
   "outputs": [],
   "source": [
    "driver.close()"
   ]
  },
  {
   "cell_type": "markdown",
   "metadata": {},
   "source": [
    "Write a python program to search for a smartphone(e.g.: Oneplus Nord, pixel 4A, etc.) on \n",
    "www.flipkart.com and scrape following details for all the search results displayed on 1st page. \n",
    "Details to be scraped: “Brand Name”, “Smartphone name”, “Colour”, “RAM”, \n",
    "“Storage(ROM)”, “Primary Camera”, “Secondary Camera”, “Display Size”, “Display \n",
    "Resolution”, “Processor”, “Processor Cores”, “Battery Capacity”, “Price”, “Product URL”. \n",
    "Incase if any of the details is missing then replace it by “- “. Save your results in a dataframe \n",
    "and CSV.\n"
   ]
  },
  {
   "cell_type": "code",
   "execution_count": 1,
   "metadata": {},
   "outputs": [],
   "source": [
    "#import all the required libraries\n",
    "import pandas as pd\n",
    "import selenium\n",
    "from selenium import webdriver\n",
    "import time\n",
    "import requests\n",
    "from selenium.common.exceptions import StaleElementReferenceException, NoSuchElementException"
   ]
  },
  {
   "cell_type": "code",
   "execution_count": 5,
   "metadata": {},
   "outputs": [],
   "source": [
    "#Activating the chrome browser\n",
    "driver = webdriver.Chrome('chromedriver.exe')"
   ]
  },
  {
   "cell_type": "code",
   "execution_count": 6,
   "metadata": {},
   "outputs": [],
   "source": [
    "#opening the home page of google\n",
    "driver.get('https://www.flipkart.com/')"
   ]
  },
  {
   "cell_type": "code",
   "execution_count": 7,
   "metadata": {},
   "outputs": [
    {
     "name": "stdout",
     "output_type": "stream",
     "text": [
      "Enter the product you want to search :Iphone 11\n"
     ]
    }
   ],
   "source": [
    "#ask the user to input the keywords to search\n",
    "user_inp = input(\"Enter the product you want to search :\")"
   ]
  },
  {
   "cell_type": "code",
   "execution_count": 8,
   "metadata": {},
   "outputs": [],
   "source": [
    "search_bar=driver.find_element_by_class_name(\"_3704LK\")\n",
    "search_bar.send_keys(user_inp)\n",
    "button=driver.find_element_by_class_name('L0Z3Pu')\n",
    "button.click()"
   ]
  },
  {
   "cell_type": "code",
   "execution_count": 9,
   "metadata": {},
   "outputs": [],
   "source": [
    "# creating empty lists for scraping data\n",
    "brand_name=[]\n",
    "price=[]\n",
    "discount=[]\n",
    "ratings=[]\n",
    "no_of_ratings=[]\n",
    "full_desc=[]\n",
    "\n",
    "\n",
    "time.sleep(3)"
   ]
  },
  {
   "cell_type": "code",
   "execution_count": 10,
   "metadata": {},
   "outputs": [],
   "source": [
    "# finding the element where brand_name is present\n",
    "brand=driver.find_elements_by_xpath(\"//div[@class='_4rR01T']\")\n",
    "for i in brand:\n",
    "    if i.text is None :\n",
    "        brand_name.append(\"--\")      \n",
    "    else:\n",
    "        brand_name.append(i.text)\n",
    "        \n",
    "time.sleep(3)        "
   ]
  },
  {
   "cell_type": "code",
   "execution_count": 11,
   "metadata": {},
   "outputs": [],
   "source": [
    "# finding the element where brand_name is present\n",
    "prices=driver.find_elements_by_xpath(\"//div[@class='_30jeq3 _1_WHN1']\")\n",
    "for i in prices:\n",
    "    if i.text is None :\n",
    "        price.append(\"--\")      \n",
    "    else:\n",
    "        price.append(i.text)\n",
    "        \n",
    "time.sleep(3)   "
   ]
  },
  {
   "cell_type": "code",
   "execution_count": 12,
   "metadata": {},
   "outputs": [],
   "source": [
    "# finding the element where brand_name is present\n",
    "discounts=driver.find_elements_by_xpath(\"//div[@class='_3Ay6Sb']/span\")\n",
    "for i in discounts:\n",
    "    if i.text is None :\n",
    "        discount.append(\"--\")      \n",
    "    else:\n",
    "        discount.append(i.text)\n",
    "        \n",
    "time.sleep(3)"
   ]
  },
  {
   "cell_type": "code",
   "execution_count": 13,
   "metadata": {},
   "outputs": [],
   "source": [
    "# finding the element where brand_name is present\n",
    "rating=driver.find_elements_by_xpath(\"//div[@class='_3LWZlK']\")\n",
    "for i in rating:\n",
    "    if i.text is None :\n",
    "        ratings.append(\"--\")      \n",
    "    else:\n",
    "        ratings.append(i.text)\n",
    "        \n",
    "time.sleep(3)"
   ]
  },
  {
   "cell_type": "code",
   "execution_count": 14,
   "metadata": {},
   "outputs": [],
   "source": [
    "# finding the element where brand_name is present\n",
    "no_of_rating=driver.find_elements_by_xpath(\"//span[@class='_2_R_DZ']/span[1]\")\n",
    "for i in no_of_rating:\n",
    "    if i.text is None :\n",
    "        no_of_ratings.append(\"--\")      \n",
    "    else:\n",
    "        no_of_ratings.append(i.text)\n",
    "        \n",
    "time.sleep(3)"
   ]
  },
  {
   "cell_type": "code",
   "execution_count": 15,
   "metadata": {},
   "outputs": [],
   "source": [
    "# finding the element where brand_name is present\n",
    "full_descs=driver.find_elements_by_xpath(\"//ul[@class='_1xgFaf']\")\n",
    "for i in full_descs:\n",
    "    if i.text is None :\n",
    "        full_desc.append(\"--\")      \n",
    "    else:\n",
    "        full_desc.append(i.text)\n",
    "        \n",
    "time.sleep(3)"
   ]
  },
  {
   "cell_type": "code",
   "execution_count": 16,
   "metadata": {},
   "outputs": [
    {
     "name": "stdout",
     "output_type": "stream",
     "text": [
      "24\n"
     ]
    }
   ],
   "source": [
    "print(len(full_desc))"
   ]
  },
  {
   "cell_type": "code",
   "execution_count": 17,
   "metadata": {},
   "outputs": [],
   "source": [
    "#creating a dataframe\n",
    "df=pd.DataFrame({'Brand': brand_name,\n",
    "                'Price':price,\n",
    "                'Rating': ratings,\n",
    "                'Discount':discount,\n",
    "                'No of Ratings': no_of_ratings,\n",
    "                 'Full Description': full_desc})"
   ]
  },
  {
   "cell_type": "code",
   "execution_count": 18,
   "metadata": {},
   "outputs": [
    {
     "data": {
      "text/html": [
       "<div>\n",
       "<style scoped>\n",
       "    .dataframe tbody tr th:only-of-type {\n",
       "        vertical-align: middle;\n",
       "    }\n",
       "\n",
       "    .dataframe tbody tr th {\n",
       "        vertical-align: top;\n",
       "    }\n",
       "\n",
       "    .dataframe thead th {\n",
       "        text-align: right;\n",
       "    }\n",
       "</style>\n",
       "<table border=\"1\" class=\"dataframe\">\n",
       "  <thead>\n",
       "    <tr style=\"text-align: right;\">\n",
       "      <th></th>\n",
       "      <th>Brand</th>\n",
       "      <th>Price</th>\n",
       "      <th>Rating</th>\n",
       "      <th>Discount</th>\n",
       "      <th>No of Ratings</th>\n",
       "      <th>Full Description</th>\n",
       "    </tr>\n",
       "  </thead>\n",
       "  <tbody>\n",
       "    <tr>\n",
       "      <th>0</th>\n",
       "      <td>APPLE iPhone 11 (Black, 64 GB)</td>\n",
       "      <td>₹49,999</td>\n",
       "      <td>4.6</td>\n",
       "      <td>8% off</td>\n",
       "      <td>62,426 Ratings &amp; 4,786 Reviews</td>\n",
       "      <td>64 GB ROM\\n15.49 cm (6.1 inch) Liquid Retina H...</td>\n",
       "    </tr>\n",
       "    <tr>\n",
       "      <th>1</th>\n",
       "      <td>APPLE iPhone 11 (Red, 64 GB)</td>\n",
       "      <td>₹49,999</td>\n",
       "      <td>4.6</td>\n",
       "      <td>8% off</td>\n",
       "      <td>62,426 Ratings &amp; 4,786 Reviews</td>\n",
       "      <td>64 GB ROM\\n15.49 cm (6.1 inch) Liquid Retina H...</td>\n",
       "    </tr>\n",
       "    <tr>\n",
       "      <th>2</th>\n",
       "      <td>APPLE iPhone 11 (Purple, 64 GB)</td>\n",
       "      <td>₹49,999</td>\n",
       "      <td>4.6</td>\n",
       "      <td>8% off</td>\n",
       "      <td>62,426 Ratings &amp; 4,786 Reviews</td>\n",
       "      <td>64 GB ROM\\n15.49 cm (6.1 inch) Liquid Retina H...</td>\n",
       "    </tr>\n",
       "    <tr>\n",
       "      <th>3</th>\n",
       "      <td>APPLE iPhone 11 (White, 64 GB)</td>\n",
       "      <td>₹49,999</td>\n",
       "      <td>4.6</td>\n",
       "      <td>8% off</td>\n",
       "      <td>62,426 Ratings &amp; 4,786 Reviews</td>\n",
       "      <td>64 GB ROM\\n15.49 cm (6.1 inch) Liquid Retina H...</td>\n",
       "    </tr>\n",
       "    <tr>\n",
       "      <th>4</th>\n",
       "      <td>APPLE iPhone 11 (Yellow, 64 GB)</td>\n",
       "      <td>₹49,999</td>\n",
       "      <td>4.6</td>\n",
       "      <td>8% off</td>\n",
       "      <td>62,426 Ratings &amp; 4,786 Reviews</td>\n",
       "      <td>64 GB ROM\\n15.49 cm (6.1 inch) Liquid Retina H...</td>\n",
       "    </tr>\n",
       "    <tr>\n",
       "      <th>5</th>\n",
       "      <td>APPLE iPhone 11 (White, 128 GB)</td>\n",
       "      <td>₹56,999</td>\n",
       "      <td>4.6</td>\n",
       "      <td>4% off</td>\n",
       "      <td>62,426 Ratings &amp; 4,786 Reviews</td>\n",
       "      <td>128 GB ROM\\n15.49 cm (6.1 inch) Liquid Retina ...</td>\n",
       "    </tr>\n",
       "    <tr>\n",
       "      <th>6</th>\n",
       "      <td>APPLE iPhone 11 (Black, 128 GB)</td>\n",
       "      <td>₹56,999</td>\n",
       "      <td>4.6</td>\n",
       "      <td>4% off</td>\n",
       "      <td>62,426 Ratings &amp; 4,786 Reviews</td>\n",
       "      <td>128 GB ROM\\n15.49 cm (6.1 inch) Liquid Retina ...</td>\n",
       "    </tr>\n",
       "    <tr>\n",
       "      <th>7</th>\n",
       "      <td>APPLE iPhone 11 (Green, 64 GB)</td>\n",
       "      <td>₹49,999</td>\n",
       "      <td>4.6</td>\n",
       "      <td>8% off</td>\n",
       "      <td>62,426 Ratings &amp; 4,786 Reviews</td>\n",
       "      <td>64 GB ROM\\n15.49 cm (6.1 inch) Liquid Retina H...</td>\n",
       "    </tr>\n",
       "    <tr>\n",
       "      <th>8</th>\n",
       "      <td>Apple iPhone 11 (Green, 64 GB) (Includes EarPo...</td>\n",
       "      <td>₹49,999</td>\n",
       "      <td>4.6</td>\n",
       "      <td>8% off</td>\n",
       "      <td>62,426 Ratings &amp; 4,786 Reviews</td>\n",
       "      <td>64 GB ROM\\n15.49 cm (6.1 inch) Liquid Retina H...</td>\n",
       "    </tr>\n",
       "    <tr>\n",
       "      <th>9</th>\n",
       "      <td>Apple iPhone 11 (Yellow, 64 GB) (Includes EarP...</td>\n",
       "      <td>₹49,999</td>\n",
       "      <td>4.6</td>\n",
       "      <td>8% off</td>\n",
       "      <td>62,426 Ratings &amp; 4,786 Reviews</td>\n",
       "      <td>64 GB ROM\\n15.49 cm (6.1 inch) Liquid Retina H...</td>\n",
       "    </tr>\n",
       "    <tr>\n",
       "      <th>10</th>\n",
       "      <td>Apple iPhone 11 (Purple, 128 GB) (Includes Ear...</td>\n",
       "      <td>₹56,999</td>\n",
       "      <td>4.6</td>\n",
       "      <td>4% off</td>\n",
       "      <td>62,426 Ratings &amp; 4,786 Reviews</td>\n",
       "      <td>128 GB ROM\\n15.49 cm (6.1 inch) Liquid Retina ...</td>\n",
       "    </tr>\n",
       "    <tr>\n",
       "      <th>11</th>\n",
       "      <td>APPLE iPhone 11 (Red, 128 GB)</td>\n",
       "      <td>₹56,999</td>\n",
       "      <td>4.6</td>\n",
       "      <td>4% off</td>\n",
       "      <td>62,426 Ratings &amp; 4,786 Reviews</td>\n",
       "      <td>128 GB ROM\\n15.49 cm (6.1 inch) Liquid Retina ...</td>\n",
       "    </tr>\n",
       "    <tr>\n",
       "      <th>12</th>\n",
       "      <td>Apple iPhone 11 (Black, 128 GB) (Includes EarP...</td>\n",
       "      <td>₹56,999</td>\n",
       "      <td>4.6</td>\n",
       "      <td>4% off</td>\n",
       "      <td>62,426 Ratings &amp; 4,786 Reviews</td>\n",
       "      <td>128 GB ROM\\n15.49 cm (6.1 inch) Liquid Retina ...</td>\n",
       "    </tr>\n",
       "    <tr>\n",
       "      <th>13</th>\n",
       "      <td>APPLE iPhone 11 (Purple, 128 GB)</td>\n",
       "      <td>₹56,999</td>\n",
       "      <td>4.6</td>\n",
       "      <td>4% off</td>\n",
       "      <td>62,426 Ratings &amp; 4,786 Reviews</td>\n",
       "      <td>128 GB ROM\\n15.49 cm (6.1 inch) Liquid Retina ...</td>\n",
       "    </tr>\n",
       "    <tr>\n",
       "      <th>14</th>\n",
       "      <td>Apple iPhone 11 (Purple, 64 GB) (Includes EarP...</td>\n",
       "      <td>₹49,999</td>\n",
       "      <td>4.6</td>\n",
       "      <td>8% off</td>\n",
       "      <td>62,426 Ratings &amp; 4,786 Reviews</td>\n",
       "      <td>64 GB ROM\\n15.49 cm (6.1 inch) Liquid Retina H...</td>\n",
       "    </tr>\n",
       "    <tr>\n",
       "      <th>15</th>\n",
       "      <td>Apple iPhone 11 (Red, 64 GB) (Includes EarPods...</td>\n",
       "      <td>₹49,999</td>\n",
       "      <td>4.6</td>\n",
       "      <td>8% off</td>\n",
       "      <td>62,426 Ratings &amp; 4,786 Reviews</td>\n",
       "      <td>64 GB ROM\\n15.49 cm (6.1 inch) Liquid Retina H...</td>\n",
       "    </tr>\n",
       "    <tr>\n",
       "      <th>16</th>\n",
       "      <td>APPLE iPhone 11 (Green, 128 GB)</td>\n",
       "      <td>₹56,999</td>\n",
       "      <td>4.6</td>\n",
       "      <td>4% off</td>\n",
       "      <td>62,426 Ratings &amp; 4,786 Reviews</td>\n",
       "      <td>128 GB ROM\\n15.49 cm (6.1 inch) Liquid Retina ...</td>\n",
       "    </tr>\n",
       "    <tr>\n",
       "      <th>17</th>\n",
       "      <td>Apple iPhone 11 (Green, 128 GB) (Includes EarP...</td>\n",
       "      <td>₹56,999</td>\n",
       "      <td>4.6</td>\n",
       "      <td>4% off</td>\n",
       "      <td>62,426 Ratings &amp; 4,786 Reviews</td>\n",
       "      <td>128 GB ROM\\n15.49 cm (6.1 inch) Liquid Retina ...</td>\n",
       "    </tr>\n",
       "    <tr>\n",
       "      <th>18</th>\n",
       "      <td>Apple iPhone 11 (Black, 64 GB) (Includes EarPo...</td>\n",
       "      <td>₹49,999</td>\n",
       "      <td>4.6</td>\n",
       "      <td>8% off</td>\n",
       "      <td>62,426 Ratings &amp; 4,786 Reviews</td>\n",
       "      <td>64 GB ROM\\n15.49 cm (6.1 inch) Liquid Retina H...</td>\n",
       "    </tr>\n",
       "    <tr>\n",
       "      <th>19</th>\n",
       "      <td>APPLE iPhone 11 (Yellow, 128 GB)</td>\n",
       "      <td>₹56,999</td>\n",
       "      <td>4.6</td>\n",
       "      <td>4% off</td>\n",
       "      <td>62,426 Ratings &amp; 4,786 Reviews</td>\n",
       "      <td>128 GB ROM\\n15.49 cm (6.1 inch) Liquid Retina ...</td>\n",
       "    </tr>\n",
       "    <tr>\n",
       "      <th>20</th>\n",
       "      <td>Apple iPhone 11 (Yellow, 128 GB) (Includes Ear...</td>\n",
       "      <td>₹56,999</td>\n",
       "      <td>4.6</td>\n",
       "      <td>4% off</td>\n",
       "      <td>62,426 Ratings &amp; 4,786 Reviews</td>\n",
       "      <td>128 GB ROM\\n15.49 cm (6.1 inch) Liquid Retina ...</td>\n",
       "    </tr>\n",
       "    <tr>\n",
       "      <th>21</th>\n",
       "      <td>Apple iPhone 11 (Red, 256 GB) (Includes EarPod...</td>\n",
       "      <td>₹66,999</td>\n",
       "      <td>4.6</td>\n",
       "      <td>4% off</td>\n",
       "      <td>62,426 Ratings &amp; 4,786 Reviews</td>\n",
       "      <td>256 GB ROM\\n15.49 cm (6.1 inch) Liquid Retina ...</td>\n",
       "    </tr>\n",
       "    <tr>\n",
       "      <th>22</th>\n",
       "      <td>Apple iPhone 11 (White, 128 GB) (Includes EarP...</td>\n",
       "      <td>₹56,999</td>\n",
       "      <td>4.6</td>\n",
       "      <td>4% off</td>\n",
       "      <td>62,426 Ratings &amp; 4,786 Reviews</td>\n",
       "      <td>128 GB ROM\\n15.49 cm (6.1 inch) Liquid Retina ...</td>\n",
       "    </tr>\n",
       "    <tr>\n",
       "      <th>23</th>\n",
       "      <td>Apple iPhone 11 (White, 64 GB) (Includes EarPo...</td>\n",
       "      <td>₹49,999</td>\n",
       "      <td>4.6</td>\n",
       "      <td>8% off</td>\n",
       "      <td>62,426 Ratings &amp; 4,786 Reviews</td>\n",
       "      <td>64 GB ROM\\n15.49 cm (6.1 inch) Liquid Retina H...</td>\n",
       "    </tr>\n",
       "  </tbody>\n",
       "</table>\n",
       "</div>"
      ],
      "text/plain": [
       "                                                Brand    Price Rating  \\\n",
       "0                      APPLE iPhone 11 (Black, 64 GB)  ₹49,999    4.6   \n",
       "1                        APPLE iPhone 11 (Red, 64 GB)  ₹49,999    4.6   \n",
       "2                     APPLE iPhone 11 (Purple, 64 GB)  ₹49,999    4.6   \n",
       "3                      APPLE iPhone 11 (White, 64 GB)  ₹49,999    4.6   \n",
       "4                     APPLE iPhone 11 (Yellow, 64 GB)  ₹49,999    4.6   \n",
       "5                     APPLE iPhone 11 (White, 128 GB)  ₹56,999    4.6   \n",
       "6                     APPLE iPhone 11 (Black, 128 GB)  ₹56,999    4.6   \n",
       "7                      APPLE iPhone 11 (Green, 64 GB)  ₹49,999    4.6   \n",
       "8   Apple iPhone 11 (Green, 64 GB) (Includes EarPo...  ₹49,999    4.6   \n",
       "9   Apple iPhone 11 (Yellow, 64 GB) (Includes EarP...  ₹49,999    4.6   \n",
       "10  Apple iPhone 11 (Purple, 128 GB) (Includes Ear...  ₹56,999    4.6   \n",
       "11                      APPLE iPhone 11 (Red, 128 GB)  ₹56,999    4.6   \n",
       "12  Apple iPhone 11 (Black, 128 GB) (Includes EarP...  ₹56,999    4.6   \n",
       "13                   APPLE iPhone 11 (Purple, 128 GB)  ₹56,999    4.6   \n",
       "14  Apple iPhone 11 (Purple, 64 GB) (Includes EarP...  ₹49,999    4.6   \n",
       "15  Apple iPhone 11 (Red, 64 GB) (Includes EarPods...  ₹49,999    4.6   \n",
       "16                    APPLE iPhone 11 (Green, 128 GB)  ₹56,999    4.6   \n",
       "17  Apple iPhone 11 (Green, 128 GB) (Includes EarP...  ₹56,999    4.6   \n",
       "18  Apple iPhone 11 (Black, 64 GB) (Includes EarPo...  ₹49,999    4.6   \n",
       "19                   APPLE iPhone 11 (Yellow, 128 GB)  ₹56,999    4.6   \n",
       "20  Apple iPhone 11 (Yellow, 128 GB) (Includes Ear...  ₹56,999    4.6   \n",
       "21  Apple iPhone 11 (Red, 256 GB) (Includes EarPod...  ₹66,999    4.6   \n",
       "22  Apple iPhone 11 (White, 128 GB) (Includes EarP...  ₹56,999    4.6   \n",
       "23  Apple iPhone 11 (White, 64 GB) (Includes EarPo...  ₹49,999    4.6   \n",
       "\n",
       "   Discount                   No of Ratings  \\\n",
       "0    8% off  62,426 Ratings & 4,786 Reviews   \n",
       "1    8% off  62,426 Ratings & 4,786 Reviews   \n",
       "2    8% off  62,426 Ratings & 4,786 Reviews   \n",
       "3    8% off  62,426 Ratings & 4,786 Reviews   \n",
       "4    8% off  62,426 Ratings & 4,786 Reviews   \n",
       "5    4% off  62,426 Ratings & 4,786 Reviews   \n",
       "6    4% off  62,426 Ratings & 4,786 Reviews   \n",
       "7    8% off  62,426 Ratings & 4,786 Reviews   \n",
       "8    8% off  62,426 Ratings & 4,786 Reviews   \n",
       "9    8% off  62,426 Ratings & 4,786 Reviews   \n",
       "10   4% off  62,426 Ratings & 4,786 Reviews   \n",
       "11   4% off  62,426 Ratings & 4,786 Reviews   \n",
       "12   4% off  62,426 Ratings & 4,786 Reviews   \n",
       "13   4% off  62,426 Ratings & 4,786 Reviews   \n",
       "14   8% off  62,426 Ratings & 4,786 Reviews   \n",
       "15   8% off  62,426 Ratings & 4,786 Reviews   \n",
       "16   4% off  62,426 Ratings & 4,786 Reviews   \n",
       "17   4% off  62,426 Ratings & 4,786 Reviews   \n",
       "18   8% off  62,426 Ratings & 4,786 Reviews   \n",
       "19   4% off  62,426 Ratings & 4,786 Reviews   \n",
       "20   4% off  62,426 Ratings & 4,786 Reviews   \n",
       "21   4% off  62,426 Ratings & 4,786 Reviews   \n",
       "22   4% off  62,426 Ratings & 4,786 Reviews   \n",
       "23   8% off  62,426 Ratings & 4,786 Reviews   \n",
       "\n",
       "                                     Full Description  \n",
       "0   64 GB ROM\\n15.49 cm (6.1 inch) Liquid Retina H...  \n",
       "1   64 GB ROM\\n15.49 cm (6.1 inch) Liquid Retina H...  \n",
       "2   64 GB ROM\\n15.49 cm (6.1 inch) Liquid Retina H...  \n",
       "3   64 GB ROM\\n15.49 cm (6.1 inch) Liquid Retina H...  \n",
       "4   64 GB ROM\\n15.49 cm (6.1 inch) Liquid Retina H...  \n",
       "5   128 GB ROM\\n15.49 cm (6.1 inch) Liquid Retina ...  \n",
       "6   128 GB ROM\\n15.49 cm (6.1 inch) Liquid Retina ...  \n",
       "7   64 GB ROM\\n15.49 cm (6.1 inch) Liquid Retina H...  \n",
       "8   64 GB ROM\\n15.49 cm (6.1 inch) Liquid Retina H...  \n",
       "9   64 GB ROM\\n15.49 cm (6.1 inch) Liquid Retina H...  \n",
       "10  128 GB ROM\\n15.49 cm (6.1 inch) Liquid Retina ...  \n",
       "11  128 GB ROM\\n15.49 cm (6.1 inch) Liquid Retina ...  \n",
       "12  128 GB ROM\\n15.49 cm (6.1 inch) Liquid Retina ...  \n",
       "13  128 GB ROM\\n15.49 cm (6.1 inch) Liquid Retina ...  \n",
       "14  64 GB ROM\\n15.49 cm (6.1 inch) Liquid Retina H...  \n",
       "15  64 GB ROM\\n15.49 cm (6.1 inch) Liquid Retina H...  \n",
       "16  128 GB ROM\\n15.49 cm (6.1 inch) Liquid Retina ...  \n",
       "17  128 GB ROM\\n15.49 cm (6.1 inch) Liquid Retina ...  \n",
       "18  64 GB ROM\\n15.49 cm (6.1 inch) Liquid Retina H...  \n",
       "19  128 GB ROM\\n15.49 cm (6.1 inch) Liquid Retina ...  \n",
       "20  128 GB ROM\\n15.49 cm (6.1 inch) Liquid Retina ...  \n",
       "21  256 GB ROM\\n15.49 cm (6.1 inch) Liquid Retina ...  \n",
       "22  128 GB ROM\\n15.49 cm (6.1 inch) Liquid Retina ...  \n",
       "23  64 GB ROM\\n15.49 cm (6.1 inch) Liquid Retina H...  "
      ]
     },
     "execution_count": 18,
     "metadata": {},
     "output_type": "execute_result"
    }
   ],
   "source": [
    "df\n",
    "\n"
   ]
  },
  {
   "cell_type": "code",
   "execution_count": null,
   "metadata": {},
   "outputs": [],
   "source": []
  },
  {
   "cell_type": "code",
   "execution_count": null,
   "metadata": {},
   "outputs": [],
   "source": []
  },
  {
   "cell_type": "markdown",
   "metadata": {},
   "source": [
    "7. Write a program to scrap all the available details of top 10 gaming laptops from digit.in."
   ]
  },
  {
   "cell_type": "code",
   "execution_count": 2,
   "metadata": {},
   "outputs": [],
   "source": [
    "#Activating the chrome browser\n",
    "driver = webdriver.Chrome('chromedriver.exe')"
   ]
  },
  {
   "cell_type": "code",
   "execution_count": 3,
   "metadata": {},
   "outputs": [],
   "source": [
    "#opening the home page of digit\n",
    "driver.get('https://www.digit.in/')"
   ]
  },
  {
   "cell_type": "code",
   "execution_count": 4,
   "metadata": {},
   "outputs": [
    {
     "name": "stdout",
     "output_type": "stream",
     "text": [
      "Enter the product you want to search :Gaming Laptop\n"
     ]
    }
   ],
   "source": [
    "#ask the user to input the keywords to search\n",
    "user_inp = input(\"Enter the product you want to search :\")"
   ]
  },
  {
   "cell_type": "code",
   "execution_count": 5,
   "metadata": {},
   "outputs": [],
   "source": [
    "\n",
    "button=driver.find_element_by_class_name('search')\n",
    "button.click()"
   ]
  },
  {
   "cell_type": "code",
   "execution_count": 6,
   "metadata": {},
   "outputs": [],
   "source": [
    "# finding the element where brand_name is present\n",
    "product_name=[]\n",
    "product=driver.find_elements_by_xpath(\"//div[@class='searchProduct-desc']\")\n",
    "for i in product:\n",
    "    if i.text is None :\n",
    "        product_name.append(\"--\")      \n",
    "    else:\n",
    "        product_name.append(i.text)\n",
    "        \n",
    "time.sleep(3)"
   ]
  },
  {
   "cell_type": "code",
   "execution_count": 10,
   "metadata": {},
   "outputs": [],
   "source": [
    "# scraping the price, for scraping price we have to go in each of the procut links separately\n",
    "price=[]\n",
    "urls=[i.get_attribute(\"href\")for i in driver.find_elements_by_xpath(\"//div[@class='searchProduct-ickon']/p/a\")]\n",
    "for url in urls[0:10]:\n",
    "    try:\n",
    "        \n",
    "        driver.get(url)\n",
    "        prices=driver.find_element_by_xpath(\"//div[@class='Block-price']/b/i\")\n",
    "        price.append(prices.text)\n",
    "    except NoSuchElementException :\n",
    "        price.append(\"---\")"
   ]
  },
  {
   "cell_type": "code",
   "execution_count": 11,
   "metadata": {},
   "outputs": [
    {
     "data": {
      "text/plain": [
       "[]"
      ]
     },
     "execution_count": 11,
     "metadata": {},
     "output_type": "execute_result"
    }
   ],
   "source": []
  },
  {
   "cell_type": "code",
   "execution_count": null,
   "metadata": {},
   "outputs": [],
   "source": []
  },
  {
   "cell_type": "code",
   "execution_count": null,
   "metadata": {},
   "outputs": [],
   "source": []
  },
  {
   "cell_type": "markdown",
   "metadata": {},
   "source": [
    "Write a program to scrap geospatial coordinates (latitude, longitude) of a city searched on \n",
    "google maps"
   ]
  },
  {
   "cell_type": "code",
   "execution_count": 12,
   "metadata": {},
   "outputs": [],
   "source": [
    "#Activating the chrome browser\n",
    "driver = webdriver.Chrome('chromedriver.exe')"
   ]
  },
  {
   "cell_type": "code",
   "execution_count": 13,
   "metadata": {},
   "outputs": [],
   "source": [
    "#opening the home page of google maps\n",
    "driver.get('https://www.google.com/maps/')"
   ]
  },
  {
   "cell_type": "code",
   "execution_count": 14,
   "metadata": {},
   "outputs": [
    {
     "name": "stdout",
     "output_type": "stream",
     "text": [
      "Enter the product you want to search :Kolkata\n"
     ]
    }
   ],
   "source": [
    "#ask the user to input the keywords to search\n",
    "user_inp = input(\"Enter the product you want to search :\")"
   ]
  },
  {
   "cell_type": "code",
   "execution_count": 15,
   "metadata": {},
   "outputs": [],
   "source": [
    "search_bar=driver.find_element_by_class_name(\"tactile-searchbox-input\")\n",
    "search_bar.send_keys(user_inp)\n"
   ]
  },
  {
   "cell_type": "code",
   "execution_count": 16,
   "metadata": {},
   "outputs": [],
   "source": [
    "button=driver.find_element_by_class_name('searchbox-searchbutton-container')\n",
    "button.click()"
   ]
  },
  {
   "cell_type": "code",
   "execution_count": 17,
   "metadata": {},
   "outputs": [],
   "source": [
    "product=driver.find_element_by_xpath(\"//button[@class='nGhxh-tv6Bve GaSlwc-uhFGfc-WsjYwc-zfKixb-UacCoe']\")"
   ]
  },
  {
   "cell_type": "code",
   "execution_count": 18,
   "metadata": {},
   "outputs": [
    {
     "data": {
      "text/plain": [
       "<selenium.webdriver.remote.webelement.WebElement (session=\"ac1e632c20a379275314333c07cfb928\", element=\"7c37aa35-aa0c-44b1-b119-f4294366f411\")>"
      ]
     },
     "execution_count": 18,
     "metadata": {},
     "output_type": "execute_result"
    }
   ],
   "source": [
    "product"
   ]
  },
  {
   "cell_type": "code",
   "execution_count": 19,
   "metadata": {},
   "outputs": [
    {
     "ename": "TypeError",
     "evalue": "'WebElement' object is not iterable",
     "output_type": "error",
     "traceback": [
      "\u001b[1;31m---------------------------------------------------------------------------\u001b[0m",
      "\u001b[1;31mTypeError\u001b[0m                                 Traceback (most recent call last)",
      "\u001b[1;32m<ipython-input-19-374997b03f31>\u001b[0m in \u001b[0;36m<module>\u001b[1;34m\u001b[0m\n\u001b[0;32m      1\u001b[0m \u001b[1;31m#Loop to iterate over the tags extracted above and extract the text inside them.\u001b[0m\u001b[1;33m\u001b[0m\u001b[1;33m\u001b[0m\u001b[1;33m\u001b[0m\u001b[0m\n\u001b[0;32m      2\u001b[0m \u001b[0mspatial_loc\u001b[0m\u001b[1;33m=\u001b[0m\u001b[1;33m[\u001b[0m\u001b[1;33m]\u001b[0m\u001b[1;33m\u001b[0m\u001b[1;33m\u001b[0m\u001b[0m\n\u001b[1;32m----> 3\u001b[1;33m \u001b[1;32mfor\u001b[0m \u001b[0mi\u001b[0m \u001b[1;32min\u001b[0m \u001b[0mproduct\u001b[0m\u001b[1;33m:\u001b[0m\u001b[1;33m\u001b[0m\u001b[1;33m\u001b[0m\u001b[0m\n\u001b[0m\u001b[0;32m      4\u001b[0m     \u001b[0mspatial_loc\u001b[0m\u001b[1;33m.\u001b[0m\u001b[0mappend\u001b[0m\u001b[1;33m(\u001b[0m\u001b[0mi\u001b[0m\u001b[1;33m.\u001b[0m\u001b[0mtext\u001b[0m\u001b[1;33m)\u001b[0m\u001b[1;33m\u001b[0m\u001b[1;33m\u001b[0m\u001b[0m\n\u001b[0;32m      5\u001b[0m \u001b[0mspatial_loc\u001b[0m\u001b[1;33m\u001b[0m\u001b[1;33m\u001b[0m\u001b[0m\n",
      "\u001b[1;31mTypeError\u001b[0m: 'WebElement' object is not iterable"
     ]
    }
   ],
   "source": [
    "#Loop to iterate over the tags extracted above and extract the text inside them.\n",
    "spatial_loc=[]\n",
    "for i in product:\n",
    "    spatial_loc.append(i.text)\n",
    "spatial_loc"
   ]
  },
  {
   "cell_type": "code",
   "execution_count": null,
   "metadata": {},
   "outputs": [],
   "source": []
  },
  {
   "cell_type": "code",
   "execution_count": null,
   "metadata": {},
   "outputs": [],
   "source": []
  },
  {
   "cell_type": "markdown",
   "metadata": {},
   "source": [
    "Write a program to scrap details of all the funding deals for second quarter (i.e. July 20 –\n",
    "September 20) from trak.in."
   ]
  },
  {
   "cell_type": "code",
   "execution_count": null,
   "metadata": {},
   "outputs": [],
   "source": []
  }
 ],
 "metadata": {
  "kernelspec": {
   "display_name": "Python 3",
   "language": "python",
   "name": "python3"
  },
  "language_info": {
   "codemirror_mode": {
    "name": "ipython",
    "version": 3
   },
   "file_extension": ".py",
   "mimetype": "text/x-python",
   "name": "python",
   "nbconvert_exporter": "python",
   "pygments_lexer": "ipython3",
   "version": "3.8.5"
  }
 },
 "nbformat": 4,
 "nbformat_minor": 4
}
